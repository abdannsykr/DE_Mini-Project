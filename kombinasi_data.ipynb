{
 "cells": [
  {
   "cell_type": "code",
   "execution_count": 1,
   "metadata": {},
   "outputs": [],
   "source": [
    "import pandas as pd"
   ]
  },
  {
   "cell_type": "code",
   "execution_count": 2,
   "metadata": {},
   "outputs": [
    {
     "name": "stdout",
     "output_type": "stream",
     "text": [
      "Data rural population percent\n",
      "     Country Name Country Code                            Indicator Name  \\\n",
      "0           Aruba          ABW  Rural population (% of total population)   \n",
      "1     Afghanistan          AFG  Rural population (% of total population)   \n",
      "2          Angola          AGO  Rural population (% of total population)   \n",
      "3         Albania          ALB  Rural population (% of total population)   \n",
      "4         Andorra          AND  Rural population (% of total population)   \n",
      "..            ...          ...                                       ...   \n",
      "259        Kosovo          XKX  Rural population (% of total population)   \n",
      "260   Yemen, Rep.          YEM  Rural population (% of total population)   \n",
      "261  South Africa          ZAF  Rural population (% of total population)   \n",
      "262        Zambia          ZMB  Rural population (% of total population)   \n",
      "263      Zimbabwe          ZWE  Rural population (% of total population)   \n",
      "\n",
      "     Indicator Code    1960    1961    1962    1963    1964    1965  ...  \\\n",
      "0    SP.RUR.TOTL.ZS  49.224  49.239  49.254  49.270  49.285  49.300  ...   \n",
      "1    SP.RUR.TOTL.ZS  91.779  91.492  91.195  90.890  90.574  90.250  ...   \n",
      "2    SP.RUR.TOTL.ZS  89.565  89.202  88.796  88.376  87.942  87.496  ...   \n",
      "3    SP.RUR.TOTL.ZS  69.295  69.057  68.985  68.914  68.842  68.770  ...   \n",
      "4    SP.RUR.TOTL.ZS  41.550  39.017  36.538  34.128  31.795  29.555  ...   \n",
      "..              ...     ...     ...     ...     ...     ...     ...  ...   \n",
      "259  SP.RUR.TOTL.ZS   0.000   0.000   0.000   0.000   0.000   0.000  ...   \n",
      "260  SP.RUR.TOTL.ZS  90.900  90.541  90.169  89.784  89.386  88.974  ...   \n",
      "261  SP.RUR.TOTL.ZS  53.381  53.207  53.094  52.980  52.866  52.752  ...   \n",
      "262  SP.RUR.TOTL.ZS  81.855  81.049  80.215  79.288  77.985  76.628  ...   \n",
      "263  SP.RUR.TOTL.ZS  87.392  87.179  86.918  86.422  85.908  85.380  ...   \n",
      "\n",
      "       2009    2010    2011    2012    2013    2014    2015    2016    2017  \\\n",
      "0    56.579  56.941  57.302  57.636  57.942  58.221  58.472  58.696  58.893   \n",
      "1    75.687  75.311  74.926  74.532  74.129  73.718  73.297  72.868  72.430   \n",
      "2    60.701  59.903  59.100  58.301  57.510  56.726  55.950  55.181  54.422   \n",
      "3    48.924  47.837  46.753  45.670  44.617  43.591  42.593  41.624  40.684   \n",
      "4    11.648  12.183  12.740  13.292  13.835  14.367  14.885  15.388  15.873   \n",
      "..      ...     ...     ...     ...     ...     ...     ...     ...     ...   \n",
      "259   0.000   0.000   0.000   0.000   0.000   0.000   0.000   0.000   0.000   \n",
      "260  68.835  68.268  67.698  67.126  66.550  65.973  65.394  64.813  64.231   \n",
      "261  38.313  37.782  37.254  36.728  36.212  35.702  35.199  34.705  34.218   \n",
      "262  61.701  61.275  60.847  60.413  59.973  59.528  59.078  58.621  58.160   \n",
      "263  66.622  66.804  66.985  67.166  67.346  67.499  67.624  67.723  67.793   \n",
      "\n",
      "     Unnamed: 62  \n",
      "0            0.0  \n",
      "1            0.0  \n",
      "2            0.0  \n",
      "3            0.0  \n",
      "4            0.0  \n",
      "..           ...  \n",
      "259          0.0  \n",
      "260          0.0  \n",
      "261          0.0  \n",
      "262          0.0  \n",
      "263          0.0  \n",
      "\n",
      "[264 rows x 63 columns]\n"
     ]
    }
   ],
   "source": [
    "rural_population_percent = pd.read_csv('data_clean/clean_rural_population_percent.csv')\n",
    "electricity_access_percent = pd.read_csv('data_clean/clean_electricity_access_percent.csv')\n",
    "\n",
    "print(\"Data rural population percent\")\n",
    "print(rural_population_percent)"
   ]
  },
  {
   "cell_type": "code",
   "execution_count": 3,
   "metadata": {},
   "outputs": [
    {
     "name": "stdout",
     "output_type": "stream",
     "text": [
      "Data electricity access percent\n",
      "     Country Name Country Code                           Indicator Name  \\\n",
      "0           Aruba          ABW  Access to electricity (% of population)   \n",
      "1     Afghanistan          AFG  Access to electricity (% of population)   \n",
      "2          Angola          AGO  Access to electricity (% of population)   \n",
      "3         Albania          ALB  Access to electricity (% of population)   \n",
      "4         Andorra          AND  Access to electricity (% of population)   \n",
      "..            ...          ...                                      ...   \n",
      "259        Kosovo          XKX  Access to electricity (% of population)   \n",
      "260   Yemen, Rep.          YEM  Access to electricity (% of population)   \n",
      "261  South Africa          ZAF  Access to electricity (% of population)   \n",
      "262        Zambia          ZMB  Access to electricity (% of population)   \n",
      "263      Zimbabwe          ZWE  Access to electricity (% of population)   \n",
      "\n",
      "     Indicator Code        1990        1991        1992        1993  \\\n",
      "0    EG.ELC.ACCS.ZS   88.445351   88.780846   89.115829   89.447754   \n",
      "1    EG.ELC.ACCS.ZS    0.010000    0.010000    0.010000    0.010000   \n",
      "2    EG.ELC.ACCS.ZS   11.397808   12.579379   13.760440   14.938441   \n",
      "3    EG.ELC.ACCS.ZS  100.000000  100.000000  100.000000  100.000000   \n",
      "4    EG.ELC.ACCS.ZS  100.000000  100.000000  100.000000  100.000000   \n",
      "..              ...         ...         ...         ...         ...   \n",
      "259  EG.ELC.ACCS.ZS   87.694695   88.333473   88.971748   89.606956   \n",
      "260  EG.ELC.ACCS.ZS   36.009098   37.441071   44.100000   40.300938   \n",
      "261  EG.ELC.ACCS.ZS   59.337940   60.575081   61.811710   63.045284   \n",
      "262  EG.ELC.ACCS.ZS   13.900000   14.115426   19.200000   15.287503   \n",
      "263  EG.ELC.ACCS.ZS   30.357832   30.718805   28.200000   31.436678   \n",
      "\n",
      "           1994        1995  ...        2007        2008        2009  \\\n",
      "0     89.773560   90.090187  ...   92.838821   93.086166   93.354546   \n",
      "1      0.010000    0.010000  ...   33.748680   42.400000   44.854885   \n",
      "2     16.110325   17.273031  ...   37.500000   31.268013   32.382469   \n",
      "3    100.000000  100.000000  ...  100.000000  100.000000  100.000000   \n",
      "4    100.000000  100.000000  ...  100.000000  100.000000  100.000000   \n",
      "..          ...         ...  ...         ...         ...         ...   \n",
      "259   90.236053   90.855965  ...   97.244034   97.794670   98.377060   \n",
      "260   41.723221   43.136330  ...   59.042709   60.386539   61.751400   \n",
      "261   64.272736   65.491013  ...   82.000000   81.900000   82.700000   \n",
      "262   15.865894   16.435108  ...   18.500000   22.714685   23.235649   \n",
      "263   28.100000   32.130077  ...   35.184479   35.457310   43.369082   \n",
      "\n",
      "           2010        2011        2012        2013        2014        2015  \\\n",
      "0     93.356292   93.942375   94.255814   94.578262   94.906723   95.238182   \n",
      "1     42.700000   43.222019   69.100000   67.259552   89.500000   71.500000   \n",
      "2     33.514950   34.600000   35.821964   36.990490   32.000000   42.000000   \n",
      "3    100.000000  100.000000  100.000000  100.000000  100.000000  100.000000   \n",
      "4    100.000000  100.000000  100.000000  100.000000  100.000000  100.000000   \n",
      "..          ...         ...         ...         ...         ...         ...   \n",
      "259    0.000000   99.430435   99.773651   99.942505   99.993134  100.000000   \n",
      "260   63.134281   64.532181   65.942101   75.600000   66.100000   70.213905   \n",
      "261   82.900000   84.700000   85.300000   85.400000   86.000000   85.500000   \n",
      "262   22.000000   24.328644   24.894667   25.469702   27.900000   31.100000   \n",
      "263   36.063057   36.900000   36.728878   37.076813   32.300000   33.700000   \n",
      "\n",
      "           2016  \n",
      "0     95.570145  \n",
      "1     84.137138  \n",
      "2     40.520607  \n",
      "3    100.000000  \n",
      "4    100.000000  \n",
      "..          ...  \n",
      "259  100.000000  \n",
      "260   71.642349  \n",
      "261   84.200000  \n",
      "262   27.219337  \n",
      "263   38.145138  \n",
      "\n",
      "[264 rows x 31 columns]\n"
     ]
    }
   ],
   "source": [
    "print(\"Data electricity access percent\")\n",
    "print(electricity_access_percent)"
   ]
  },
  {
   "cell_type": "code",
   "execution_count": 4,
   "metadata": {},
   "outputs": [],
   "source": [
    "merged_data = pd.merge(rural_population_percent, electricity_access_percent, on=[\"Country Name\", \"Country Code\"], how='inner')\n",
    "\n",
    "merged_data.to_csv('kombinasi_electricity_dan_rural.csv', index=False)\n"
   ]
  },
  {
   "cell_type": "code",
   "execution_count": null,
   "metadata": {},
   "outputs": [],
   "source": []
  }
 ],
 "metadata": {
  "kernelspec": {
   "display_name": "Python 3",
   "language": "python",
   "name": "python3"
  },
  "language_info": {
   "codemirror_mode": {
    "name": "ipython",
    "version": 3
   },
   "file_extension": ".py",
   "mimetype": "text/x-python",
   "name": "python",
   "nbconvert_exporter": "python",
   "pygments_lexer": "ipython3",
   "version": "3.12.1"
  }
 },
 "nbformat": 4,
 "nbformat_minor": 2
}
